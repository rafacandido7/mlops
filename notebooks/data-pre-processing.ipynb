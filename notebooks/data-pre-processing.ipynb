{
 "cells": [
  {
   "cell_type": "code",
   "execution_count": 50,
   "id": "58c56372",
   "metadata": {},
   "outputs": [],
   "source": [
    "from pyspark.sql import SparkSession\n",
    "from pyspark.sql.functions import col\n",
    "import time\n"
   ]
  },
  {
   "cell_type": "code",
   "execution_count": 34,
   "id": "e44dc325",
   "metadata": {},
   "outputs": [],
   "source": [
    "minio_endpoint = \"http://minio:9000\"\n",
    "minio_access_key = \"minioadmin\"\n",
    "minio_secret_key = \"minioadmin\"\n",
    "minio_bucket_name = \"spark-output\""
   ]
  },
  {
   "cell_type": "code",
   "execution_count": 35,
   "id": "b1e28088",
   "metadata": {},
   "outputs": [],
   "source": [
    "spark = SparkSession.builder.appName(\"DataPreprocessingCPU\").master(\"local[*]\") \\\n",
    "    .config(\"spark.hadoop.fs.s3a.endpoint\", minio_endpoint) \\\n",
    "    .config(\"spark.hadoop.fs.s3a.access.key\", minio_access_key) \\\n",
    "    .config(\"spark.hadoop.fs.s3a.secret.key\", minio_secret_key) \\\n",
    "    .config(\"spark.hadoop.fs.s3a.path.style.access\", \"true\") \\\n",
    "    .config(\"spark.hadoop.fs.s3a.impl\", \"org.apache.hadoop.fs.s3a.S3AFileSystem\") \\\n",
    "    .config(\"spark.jars.packages\", \"org.apache.hadoop:hadoop-aws:3.3.4,com.amazonaws:aws-java-sdk-bundle:1.12.367\") \\\n",
    "    .getOrCreate()\n"
   ]
  },
  {
   "cell_type": "code",
   "execution_count": 36,
   "id": "63f5028c",
   "metadata": {},
   "outputs": [],
   "source": [
    "csv_file_path = './data/raw/cpu-with-vendor.csv' \n"
   ]
  },
  {
   "cell_type": "code",
   "execution_count": 37,
   "id": "aae20c13",
   "metadata": {},
   "outputs": [],
   "source": [
    "df_spark = spark.read.csv(csv_file_path, header=True, inferSchema=True)\n"
   ]
  },
  {
   "cell_type": "code",
   "execution_count": 38,
   "id": "ac4b6ab1",
   "metadata": {},
   "outputs": [
    {
     "name": "stdout",
     "output_type": "stream",
     "text": [
      "root\n",
      " |-- vendor: string (nullable = true)\n",
      " |-- MYCT: double (nullable = true)\n",
      " |-- MMIN: double (nullable = true)\n",
      " |-- MMAX: double (nullable = true)\n",
      " |-- CACH: double (nullable = true)\n",
      " |-- CHMIN: double (nullable = true)\n",
      " |-- CHMAX: double (nullable = true)\n",
      " |-- class: double (nullable = true)\n",
      "\n"
     ]
    }
   ],
   "source": [
    "df_spark.printSchema()\n"
   ]
  },
  {
   "cell_type": "code",
   "execution_count": 39,
   "id": "7561d11a",
   "metadata": {},
   "outputs": [],
   "source": [
    "df_spark = df_spark.withColumn(\"MMAX_numeric\", col(\"MMAX\").cast(\"integer\")) \\\n",
    "                           .withColumn(\"MMIN_numeric\", col(\"MMIN\").cast(\"integer\"))\n"
   ]
  },
  {
   "cell_type": "code",
   "execution_count": 40,
   "id": "493c0293",
   "metadata": {},
   "outputs": [],
   "source": [
    "df_spark = df_spark.filter(col(\"MMAX_numeric\") <= 30000)\n",
    "df_spark = df_spark.filter(col(\"MMIN_numeric\") <= 10000)"
   ]
  },
  {
   "cell_type": "code",
   "execution_count": 41,
   "id": "3a834ffb",
   "metadata": {},
   "outputs": [],
   "source": [
    "if df_spark.count() == 0:\n",
    "        print(\"Nenhuma linha restou após a filtragem. Verifique os filtros ou os dados de entrada.\")\n",
    "        spark.stop()\n",
    "        "
   ]
  },
  {
   "cell_type": "code",
   "execution_count": 42,
   "id": "8a895493",
   "metadata": {},
   "outputs": [],
   "source": [
    "columns_to_drop = ['vendor', 'MMAX_numeric', 'MMIN_numeric']\n",
    "\n",
    "actual_columns_to_drop = [c for c in columns_to_drop if c in df_spark.columns]\n",
    "\n",
    "df_processed = df_spark.drop(*actual_columns_to_drop)"
   ]
  },
  {
   "cell_type": "code",
   "execution_count": 51,
   "id": "cfada2a3",
   "metadata": {},
   "outputs": [],
   "source": [
    "parquet_object_name = f\"clean_data/cpu-data-{int(time.time())}.parquet\"\n",
    "output_path_s3a = f\"s3a://{minio_bucket_name}/{parquet_object_name}\""
   ]
  },
  {
   "cell_type": "code",
   "execution_count": 52,
   "id": "6e4227e7",
   "metadata": {},
   "outputs": [
    {
     "name": "stdout",
     "output_type": "stream",
     "text": [
      "\n",
      "Iniciando upload (escrita) para o MinIO em: s3a://spark-output/clean_data/cpu-data-1747883619.parquet\n",
      "DataFrame 'df_processed' salvo com sucesso no MinIO em 's3a://spark-output/clean_data/cpu-data-1747883619.parquet'\n"
     ]
    }
   ],
   "source": [
    "try:\n",
    "    print(f\"\\nIniciando upload (escrita) para o MinIO em: {output_path_s3a}\")\n",
    "    df_processed.write.mode(\"overwrite\").parquet(output_path_s3a)\n",
    "    print(f\"DataFrame 'df_processed' salvo com sucesso no MinIO em '{output_path_s3a}'\")\n",
    "except Exception as e:\n",
    "    print(f\"Erro ao salvar DataFrame no MinIO: {e}\")"
   ]
  },
  {
   "cell_type": "code",
   "execution_count": 55,
   "id": "57c6236b",
   "metadata": {},
   "outputs": [],
   "source": [
    "df_from_minio = spark.read.parquet(output_path_s3a)\n"
   ]
  },
  {
   "cell_type": "code",
   "execution_count": 56,
   "id": "e1ff8739",
   "metadata": {},
   "outputs": [
    {
     "name": "stdout",
     "output_type": "stream",
     "text": [
      "+-----+------+-------+-----+-----+-----+-----+\n",
      "|MYCT |MMIN  |MMAX   |CACH |CHMIN|CHMAX|class|\n",
      "+-----+------+-------+-----+-----+-----+-----+\n",
      "|125.0|256.0 |6000.0 |256.0|16.0 |128.0|199.0|\n",
      "|29.0 |8000.0|16000.0|32.0 |8.0  |16.0 |132.0|\n",
      "|400.0|1000.0|3000.0 |0.0  |1.0  |2.0  |23.0 |\n",
      "|400.0|512.0 |3500.0 |4.0  |1.0  |6.0  |24.0 |\n",
      "|60.0 |2000.0|8000.0 |65.0 |1.0  |8.0  |70.0 |\n",
      "+-----+------+-------+-----+-----+-----+-----+\n",
      "only showing top 5 rows\n",
      "\n"
     ]
    }
   ],
   "source": [
    "df_from_minio.show(5, truncate=False)\n"
   ]
  }
 ],
 "metadata": {
  "kernelspec": {
   "display_name": "Python 3 (ipykernel)",
   "language": "python",
   "name": "python3"
  },
  "language_info": {
   "codemirror_mode": {
    "name": "ipython",
    "version": 3
   },
   "file_extension": ".py",
   "mimetype": "text/x-python",
   "name": "python",
   "nbconvert_exporter": "python",
   "pygments_lexer": "ipython3",
   "version": "3.11.6"
  }
 },
 "nbformat": 4,
 "nbformat_minor": 5
}
